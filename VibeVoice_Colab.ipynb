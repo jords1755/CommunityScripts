{
  "nbformat": 4,
  "nbformat_minor": 0,
  "metadata": {
    "colab": {
      "provenance": [],
      "gpuType": "T4",
      "include_colab_link": true
    },
    "kernelspec": {
      "name": "python3",
      "display_name": "Python 3"
    },
    "language_info": {
      "name": "python"
    },
    "accelerator": "GPU"
  },
  "cells": [
    {
      "cell_type": "markdown",
      "metadata": {
        "id": "view-in-github",
        "colab_type": "text"
      },
      "source": [
        "<a href=\"https://colab.research.google.com/github/jords1755/CommunityScripts/blob/main/VibeVoice_Colab.ipynb\" target=\"_parent\"><img src=\"https://colab.research.google.com/assets/colab-badge.svg\" alt=\"Open In Colab\"/></a>"
      ]
    },
    {
      "cell_type": "markdown",
      "source": [
        "\n",
        "# VibeVoice Colab\n",
        "### 🏷️ **Credits & License**\n",
        "\n",
        "* 🔗 [VibeVoice GitHub Repository](https://github.com/microsoft/VibeVoice)\n",
        "* 🤗 [VibeVoice on Hugging Face](https://huggingface.co/microsoft/VibeVoice-1.5B)\n",
        "* 📄 **License**: Provided under the [MIT License](https://github.com/microsoft/VibeVoice/blob/main/LICENSE)\n",
        "\n",
        "### ⚠️ **Usage Disclaimer**\n",
        "\n",
        "This tool enables **AI-generated podcast creation** using cloned voices. While it can be a powerful resource for storytelling, education, and creative projects, it also carries risks if misused. By using this tool, you agree to the following guidelines:\n",
        "\n",
        "* **No Misrepresentation**: Do not use cloned voices to impersonate real people or mislead listeners into believing AI-generated voices are authentic recordings without disclosure.\n",
        "* **Transparency**: Clearly disclose when podcast content has been generated with AI, including synthetic voices or AI-written scripts.\n",
        "* **No Harmful Content**: Do not produce or distribute content that promotes hate, harassment, misinformation, defamation, or any form of harmful/deceptive material.\n",
        "* **Legal Compliance**: Ensure all use of this tool complies with copyright laws, data protection regulations, and all applicable legal and ethical standards.\n",
        "* **Respect for Consent**: Do not replicate or publish anyone’s voice without explicit permission.\n",
        "\n",
        "> ⚖️ **Legal Responsibility**\n",
        "\n",
        "> The developers of this tool disclaim all liability for misuse. **Users bear full responsibility** for ensuring that their usage complies with all applicable laws, regulations, and ethical guidelines.\n",
        "\n"
      ],
      "metadata": {
        "id": "xP2o9tdKh0X4"
      }
    },
    {
      "cell_type": "code",
      "source": [
        "# @title Install VibeVoice\n",
        "\n",
        "%cd /content/\n",
        "\n",
        "\n",
        "# !git clone https://github.com/microsoft/VibeVoice.git\n",
        "# Download colab.py\n",
        "# %cd /content/VibeVoice/demo\n",
        "# !wget https://raw.githubusercontent.com/NeuralFalconYT/VibeVoice/refs/heads/main/demo/colab.py\n",
        "\n",
        "\n",
        "# (Optional) If you experience compatibility issues with the latest version, you can use a pinned fork instead:\n",
        "!git clone https://github.com/NeuralFalconYT/VibeVoice.git\n",
        "\n",
        "\n",
        "\n",
        "%cd /content/VibeVoice/\n",
        "!pip install -e .\n",
        "# !pip install pydub>=0.25.1\n",
        "\n",
        "from IPython.display import clear_output\n",
        "clear_output()\n"
      ],
      "metadata": {
        "id": "QBpsjY7CXmqc"
      },
      "execution_count": null,
      "outputs": []
    },
    {
      "cell_type": "code",
      "source": [
        "#@title Run Official Gradio UI\n",
        "# !python /content/VibeVoice/demo/gradio_demo.py --model_path \"microsoft/VibeVoice-1.5B\" --inference_steps 10 --share"
      ],
      "metadata": {
        "id": "zb1bKXr0-l5P"
      },
      "execution_count": null,
      "outputs": []
    },
    {
      "cell_type": "code",
      "source": [],
      "metadata": {
        "id": "6EheLEAjLsUu"
      },
      "execution_count": null,
      "outputs": []
    },
    {
      "cell_type": "code",
      "source": [
        "#@title Automatically save podcast to your Google Drive [Optional]\n",
        "Enable_Drive_Save= True  # @param {type: \"boolean\"}\n",
        "if Enable_Drive_Save:\n",
        "  from google.colab import drive\n",
        "  drive.mount('/content/gdrive/')\n",
        "\n"
      ],
      "metadata": {
        "cellView": "form",
        "id": "G97PoTxbLpk9"
      },
      "execution_count": null,
      "outputs": []
    },
    {
      "cell_type": "code",
      "source": [
        "#@title Run VibeVoice Podcast\n",
        "!python /content/VibeVoice/demo/colab.py --model_path microsoft/VibeVoice-1.5B --inference_steps 10 --debug --share"
      ],
      "metadata": {
        "id": "1VSytP-9YMYa"
      },
      "execution_count": null,
      "outputs": []
    }
  ]
}